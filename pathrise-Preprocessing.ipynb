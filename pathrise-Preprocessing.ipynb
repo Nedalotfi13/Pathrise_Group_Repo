{
 "cells": [
  {
   "cell_type": "code",
   "execution_count": null,
   "id": "035c534c",
   "metadata": {},
   "outputs": [],
   "source": [
    "Step 5 - Data preprocessing\n",
    "    Dealing with missing values\n",
    "    Dataset Scaling \n",
    "    Data Scaling\n",
    "    Data Labeling"
   ]
  }
 ],
 "metadata": {
  "kernelspec": {
   "display_name": "Python 3 (ipykernel)",
   "language": "python",
   "name": "python3"
  },
  "language_info": {
   "codemirror_mode": {
    "name": "ipython",
    "version": 3
   },
   "file_extension": ".py",
   "mimetype": "text/x-python",
   "name": "python",
   "nbconvert_exporter": "python",
   "pygments_lexer": "ipython3",
   "version": "3.11.2"
  }
 },
 "nbformat": 4,
 "nbformat_minor": 5
}
