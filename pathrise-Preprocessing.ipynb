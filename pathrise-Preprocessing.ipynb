{
 "cells": [
  {
   "cell_type": "markdown",
   "id": "2d83711b",
   "metadata": {},
   "source": [
    "**Step 5 - Data preprocessing**\n",
    "- Dealing with missing values\n",
    "- Dataset Scaling \n",
    "- Data Scaling\n",
    "- Data Labeling"
   ]
  },
  {
   "cell_type": "code",
   "execution_count": 1,
   "id": "12cdabc5",
   "metadata": {},
   "outputs": [],
   "source": [
    "def analyze_missing_values(df):\n",
    "    total = df.isnull().sum().sort_values(ascending=False)\n",
    "    prcnt1 = df.isnull().sum()/df.isnull().count()*100\n",
    "    prcnt2 = (round(prcnt1, 1)).sort_values(ascending=False)\n",
    "    missing_data = pd.concat([total, prcnt2], axis=1, keys=['Total', '%'])\n",
    "    return missing_data"
   ]
  },
  {
   "cell_type": "code",
   "execution_count": 2,
   "id": "5e46b46a",
   "metadata": {},
   "outputs": [],
   "source": [
    "def transform_numbers_scaler(data, features):\n",
    "    scalers = {}\n",
    "\n",
    "    for feature in features:\n",
    "        scaler = StandardScaler()\n",
    "        data[feature] = scaler.fit_transform(data[[feature]])\n",
    "        scalers[feature] = scaler\n",
    "    \n",
    "    with open('scalers.pkl', 'wb') as file:\n",
    "        pickle.dump(scalers, file)"
   ]
  },
  {
   "cell_type": "code",
   "execution_count": 3,
   "id": "08155ea2",
   "metadata": {},
   "outputs": [],
   "source": [
    "def transform_categories_to_numbers(data, features):\n",
    "    label_encoders = {}\n",
    "\n",
    "    for feature in features:\n",
    "        label_encoder = LabelEncoder()\n",
    "        data[feature] = label_encoder.fit_transform(data[feature])\n",
    "        label_encoders[feature] = label_encoder\n",
    "    \n",
    "    with open('label_encoders.pkl', 'wb') as file:\n",
    "        pickle.dump(label_encoders, file)"
   ]
  },
  {
   "cell_type": "code",
   "execution_count": 4,
   "id": "1a0f0c6c",
   "metadata": {},
   "outputs": [],
   "source": [
    "import pandas as pd\n",
    "\n",
    "\n",
    "\n",
    "import pickle\n",
    "from sklearn.preprocessing import LabelEncoder, StandardScaler"
   ]
  },
  {
   "cell_type": "code",
   "execution_count": null,
   "id": "21fefee5",
   "metadata": {},
   "outputs": [],
   "source": []
  },
  {
   "cell_type": "code",
   "execution_count": 5,
   "id": "74d47f33",
   "metadata": {},
   "outputs": [],
   "source": [
    "df = pd.read_csv('Pathrise_prepared.csv')"
   ]
  },
  {
   "cell_type": "markdown",
   "id": "f0dba310",
   "metadata": {},
   "source": [
    "## Dealing with missing values"
   ]
  },
  {
   "cell_type": "code",
   "execution_count": 6,
   "id": "2601aa4a",
   "metadata": {},
   "outputs": [
    {
     "data": {
      "text/html": [
       "<div>\n",
       "<style scoped>\n",
       "    .dataframe tbody tr th:only-of-type {\n",
       "        vertical-align: middle;\n",
       "    }\n",
       "\n",
       "    .dataframe tbody tr th {\n",
       "        vertical-align: top;\n",
       "    }\n",
       "\n",
       "    .dataframe thead th {\n",
       "        text-align: right;\n",
       "    }\n",
       "</style>\n",
       "<table border=\"1\" class=\"dataframe\">\n",
       "  <thead>\n",
       "    <tr style=\"text-align: right;\">\n",
       "      <th></th>\n",
       "      <th>Total</th>\n",
       "      <th>%</th>\n",
       "    </tr>\n",
       "  </thead>\n",
       "  <tbody>\n",
       "    <tr>\n",
       "      <th>program_duration_days</th>\n",
       "      <td>598</td>\n",
       "      <td>24.2</td>\n",
       "    </tr>\n",
       "    <tr>\n",
       "      <th>gender</th>\n",
       "      <td>478</td>\n",
       "      <td>19.3</td>\n",
       "    </tr>\n",
       "    <tr>\n",
       "      <th>work_authorization_status</th>\n",
       "      <td>282</td>\n",
       "      <td>11.4</td>\n",
       "    </tr>\n",
       "    <tr>\n",
       "      <th>employment_status</th>\n",
       "      <td>226</td>\n",
       "      <td>9.1</td>\n",
       "    </tr>\n",
       "    <tr>\n",
       "      <th>professional_experience</th>\n",
       "      <td>216</td>\n",
       "      <td>8.7</td>\n",
       "    </tr>\n",
       "    <tr>\n",
       "      <th>number_of_interviews</th>\n",
       "      <td>214</td>\n",
       "      <td>8.7</td>\n",
       "    </tr>\n",
       "    <tr>\n",
       "      <th>length_of_job_search</th>\n",
       "      <td>74</td>\n",
       "      <td>3.0</td>\n",
       "    </tr>\n",
       "    <tr>\n",
       "      <th>highest_level_of_education</th>\n",
       "      <td>55</td>\n",
       "      <td>2.2</td>\n",
       "    </tr>\n",
       "    <tr>\n",
       "      <th>biggest_challenge_in_search</th>\n",
       "      <td>22</td>\n",
       "      <td>0.9</td>\n",
       "    </tr>\n",
       "    <tr>\n",
       "      <th>race</th>\n",
       "      <td>17</td>\n",
       "      <td>0.7</td>\n",
       "    </tr>\n",
       "    <tr>\n",
       "      <th>cohort_tag_month</th>\n",
       "      <td>8</td>\n",
       "      <td>0.3</td>\n",
       "    </tr>\n",
       "    <tr>\n",
       "      <th>cohort_tag_fortnight</th>\n",
       "      <td>8</td>\n",
       "      <td>0.3</td>\n",
       "    </tr>\n",
       "    <tr>\n",
       "      <th>cohort_tag</th>\n",
       "      <td>8</td>\n",
       "      <td>0.3</td>\n",
       "    </tr>\n",
       "    <tr>\n",
       "      <th>number_of_applications</th>\n",
       "      <td>0</td>\n",
       "      <td>0.0</td>\n",
       "    </tr>\n",
       "    <tr>\n",
       "      <th>primary_track</th>\n",
       "      <td>0</td>\n",
       "      <td>0.0</td>\n",
       "    </tr>\n",
       "    <tr>\n",
       "      <th>placed</th>\n",
       "      <td>0</td>\n",
       "      <td>0.0</td>\n",
       "    </tr>\n",
       "    <tr>\n",
       "      <th>pathrise_status</th>\n",
       "      <td>0</td>\n",
       "      <td>0.0</td>\n",
       "    </tr>\n",
       "  </tbody>\n",
       "</table>\n",
       "</div>"
      ],
      "text/plain": [
       "                             Total     %\n",
       "program_duration_days          598  24.2\n",
       "gender                         478  19.3\n",
       "work_authorization_status      282  11.4\n",
       "employment_status              226   9.1\n",
       "professional_experience        216   8.7\n",
       "number_of_interviews           214   8.7\n",
       "length_of_job_search            74   3.0\n",
       "highest_level_of_education      55   2.2\n",
       "biggest_challenge_in_search     22   0.9\n",
       "race                            17   0.7\n",
       "cohort_tag_month                 8   0.3\n",
       "cohort_tag_fortnight             8   0.3\n",
       "cohort_tag                       8   0.3\n",
       "number_of_applications           0   0.0\n",
       "primary_track                    0   0.0\n",
       "placed                           0   0.0\n",
       "pathrise_status                  0   0.0"
      ]
     },
     "execution_count": 6,
     "metadata": {},
     "output_type": "execute_result"
    }
   ],
   "source": [
    "analyze_missing_values(df=df)"
   ]
  },
  {
   "cell_type": "markdown",
   "id": "1b84c8bd",
   "metadata": {},
   "source": [
    "cohort_tag is going to remove from Dataset.\n",
    "\n",
    "\n",
    "biggest_challenge_in_search , and race has under 1 percent Null values. So maybe we can easyly fill them with approperiate values. program_duration_days has more than 24 percent Null values and we should carefully fill it with proper values. I don't want to drop it from Dataset because I believe it strongly related to target value its more tricky to deal with features with more than 1 percent and less than 20 percent Null value. it needs more investigation. let's continue with the process"
   ]
  },
  {
   "cell_type": "markdown",
   "id": "9dc2b0c8",
   "metadata": {},
   "source": [
    "### program_duration_days"
   ]
  },
  {
   "cell_type": "code",
   "execution_count": 7,
   "id": "9d76b656",
   "metadata": {},
   "outputs": [
    {
     "data": {
      "text/plain": [
       "pathrise_status\n",
       "Active    519\n",
       "MIA        49\n",
       "Break      30\n",
       "Name: count, dtype: int64"
      ]
     },
     "execution_count": 7,
     "metadata": {},
     "output_type": "execute_result"
    }
   ],
   "source": [
    "df[~df['program_duration_days'].notnull()]['pathrise_status'].value_counts()"
   ]
  },
  {
   "cell_type": "markdown",
   "id": "d142a94e",
   "metadata": {},
   "source": [
    "There are have 616 totaly null value in program_duration_days and **564** of them are remove when I remove rows with pathrise_status equal to Active or Break. Thus I should take care of **52** null values approximately **2** percent of rows."
   ]
  },
  {
   "cell_type": "markdown",
   "id": "0e9a04b0",
   "metadata": {},
   "source": [
    "### gender"
   ]
  },
  {
   "cell_type": "code",
   "execution_count": 8,
   "id": "ac14cdf2",
   "metadata": {},
   "outputs": [
    {
     "data": {
      "text/plain": [
       "gender\n",
       "Male                        1448\n",
       "Female                       525\n",
       "Decline to Self Identify      15\n",
       "Non-Binary                     6\n",
       "Name: count, dtype: int64"
      ]
     },
     "execution_count": 8,
     "metadata": {},
     "output_type": "execute_result"
    }
   ],
   "source": [
    "df['gender'].value_counts()"
   ]
  },
  {
   "cell_type": "markdown",
   "id": "cabb3fb9",
   "metadata": {},
   "source": [
    "we have 492 missing value in Gender features. In real projects we can extract such thing from the title or even the honorific in their fullname but here we don't have access to such data. In this scenario I can replace those values with ***Decline to Self Identify*** because somehow they not declared their gender."
   ]
  },
  {
   "cell_type": "code",
   "execution_count": 9,
   "id": "d2e05a76",
   "metadata": {},
   "outputs": [],
   "source": [
    "df['gender'] = df['gender'].fillna('Decline to Self Identify')"
   ]
  },
  {
   "cell_type": "code",
   "execution_count": 10,
   "id": "790727af",
   "metadata": {},
   "outputs": [
    {
     "data": {
      "text/plain": [
       "gender\n",
       "Male                        1448\n",
       "Female                       525\n",
       "Decline to Self Identify     493\n",
       "Non-Binary                     6\n",
       "Name: count, dtype: int64"
      ]
     },
     "execution_count": 10,
     "metadata": {},
     "output_type": "execute_result"
    }
   ],
   "source": [
    "df['gender'].value_counts()"
   ]
  },
  {
   "cell_type": "markdown",
   "id": "0b24ccdb",
   "metadata": {},
   "source": [
    "### work_authorization_status"
   ]
  },
  {
   "cell_type": "code",
   "execution_count": 11,
   "id": "f331db5d",
   "metadata": {},
   "outputs": [
    {
     "data": {
      "text/plain": [
       "work_authorization_status\n",
       "Citizen           1067\n",
       "F1 Visa/OPT        622\n",
       "missed             282\n",
       "Green Card         177\n",
       "F1 Visa/CPT        131\n",
       "Other              112\n",
       "H1B                 47\n",
       "Canada Citizen      22\n",
       "STEM OPT             8\n",
       "Not Authorized       4\n",
       "Name: count, dtype: int64"
      ]
     },
     "execution_count": 11,
     "metadata": {},
     "output_type": "execute_result"
    }
   ],
   "source": [
    "df['work_authorization_status'].fillna('missed').value_counts()"
   ]
  },
  {
   "cell_type": "markdown",
   "id": "4ab99e77",
   "metadata": {},
   "source": [
    "There are 284 missing value in work_authorization_status feature. Let's check what did they do before joining the program."
   ]
  },
  {
   "cell_type": "code",
   "execution_count": 12,
   "id": "c6ca71d2",
   "metadata": {},
   "outputs": [
    {
     "data": {
      "text/plain": [
       "employment_status\n",
       "Student               90\n",
       "Unemployed            77\n",
       "Employed Full-Time    44\n",
       "Employed Part-Time    28\n",
       "Contractor            16\n",
       "Name: count, dtype: int64"
      ]
     },
     "execution_count": 12,
     "metadata": {},
     "output_type": "execute_result"
    }
   ],
   "source": [
    "df[df['work_authorization_status'].isnull()]['employment_status'].value_counts()"
   ]
  },
  {
   "cell_type": "markdown",
   "id": "e0a1b306",
   "metadata": {},
   "source": [
    "There are some fellows which have working experience so they were authorized to work but I don't know the type of their Visa, so I can put them in a new category called Autorized category status. But for ***Student*** and ***Unemployed*** I don't khnow whether they were ***autorized*** or not, so I decided to put them in a new category called ***missed***"
   ]
  },
  {
   "cell_type": "code",
   "execution_count": 13,
   "id": "d79465ab",
   "metadata": {},
   "outputs": [],
   "source": [
    "employment_status_list=['Employed Full-Time', 'Employed Part-Time', 'Contractor']\n",
    "\n",
    "filtered = df['work_authorization_status'].isnull() & df['employment_status'].isin(employment_status_list)\n",
    "    \n",
    "df.loc[filtered,'work_authorization_status']=df.loc[filtered,'work_authorization_status'].fillna('Autorized')"
   ]
  },
  {
   "cell_type": "markdown",
   "id": "99e9b259",
   "metadata": {},
   "source": [
    "Processing rest of work_authorization_status missing values: for **employment_status_list** as Student and Unemployed and also for those which **employment_status_list** is missing"
   ]
  },
  {
   "cell_type": "code",
   "execution_count": 14,
   "id": "2310c4d5",
   "metadata": {},
   "outputs": [],
   "source": [
    "df['work_authorization_status'].fillna('missed', inplace=True)"
   ]
  },
  {
   "cell_type": "code",
   "execution_count": 15,
   "id": "212f157b",
   "metadata": {},
   "outputs": [
    {
     "data": {
      "text/plain": [
       "work_authorization_status\n",
       "Citizen           1067\n",
       "F1 Visa/OPT        622\n",
       "missed             194\n",
       "Green Card         177\n",
       "F1 Visa/CPT        131\n",
       "Other              112\n",
       "Autorized           88\n",
       "H1B                 47\n",
       "Canada Citizen      22\n",
       "STEM OPT             8\n",
       "Not Authorized       4\n",
       "Name: count, dtype: int64"
      ]
     },
     "execution_count": 15,
     "metadata": {},
     "output_type": "execute_result"
    }
   ],
   "source": [
    "df['work_authorization_status'].fillna('*****').value_counts()"
   ]
  },
  {
   "cell_type": "markdown",
   "id": "4ab9d35d",
   "metadata": {},
   "source": [
    "### employment_status"
   ]
  },
  {
   "cell_type": "code",
   "execution_count": 16,
   "id": "a1690fde",
   "metadata": {},
   "outputs": [
    {
     "data": {
      "text/plain": [
       "employment_status\n",
       "Student               755\n",
       "Unemployed            637\n",
       "Employed Full-Time    426\n",
       "Employed Part-Time    261\n",
       "Contractor            167\n",
       "Name: count, dtype: int64"
      ]
     },
     "execution_count": 16,
     "metadata": {},
     "output_type": "execute_result"
    }
   ],
   "source": [
    "df['employment_status'].value_counts()"
   ]
  },
  {
   "cell_type": "code",
   "execution_count": 17,
   "id": "129b9753",
   "metadata": {},
   "outputs": [],
   "source": [
    "df['employment_status'].fillna('Missed', inplace=True)"
   ]
  },
  {
   "cell_type": "code",
   "execution_count": 18,
   "id": "b7a4cfa9",
   "metadata": {},
   "outputs": [
    {
     "data": {
      "text/plain": [
       "employment_status\n",
       "Student               755\n",
       "Unemployed            637\n",
       "Employed Full-Time    426\n",
       "Employed Part-Time    261\n",
       "Missed                226\n",
       "Contractor            167\n",
       "Name: count, dtype: int64"
      ]
     },
     "execution_count": 18,
     "metadata": {},
     "output_type": "execute_result"
    }
   ],
   "source": [
    "df['employment_status'].value_counts()"
   ]
  },
  {
   "cell_type": "markdown",
   "id": "adf6dc9f",
   "metadata": {},
   "source": [
    "### professional_experience"
   ]
  },
  {
   "cell_type": "code",
   "execution_count": 19,
   "id": "8c08ce00",
   "metadata": {},
   "outputs": [
    {
     "data": {
      "text/plain": [
       "professional_experience\n",
       "1-2 years             855\n",
       "Less than one year    601\n",
       "3-4 years             549\n",
       "5+ years              251\n",
       "Missed                216\n",
       "Name: count, dtype: int64"
      ]
     },
     "execution_count": 19,
     "metadata": {},
     "output_type": "execute_result"
    }
   ],
   "source": [
    "df['professional_experience'].fillna('Missed').value_counts()"
   ]
  },
  {
   "cell_type": "code",
   "execution_count": 20,
   "id": "5c7047d4",
   "metadata": {},
   "outputs": [],
   "source": [
    "df['professional_experience'].fillna('Missed', inplace=True)"
   ]
  },
  {
   "cell_type": "markdown",
   "id": "4a762b7c",
   "metadata": {},
   "source": [
    "### number_of_interviews"
   ]
  },
  {
   "cell_type": "code",
   "execution_count": 21,
   "id": "a65d07c1",
   "metadata": {},
   "outputs": [
    {
     "data": {
      "text/plain": [
       "count    2258.000000\n",
       "mean        1.895926\n",
       "std         2.099491\n",
       "min         0.000000\n",
       "25%         0.000000\n",
       "50%         1.000000\n",
       "75%         3.000000\n",
       "max        11.000000\n",
       "Name: number_of_interviews, dtype: float64"
      ]
     },
     "execution_count": 21,
     "metadata": {},
     "output_type": "execute_result"
    }
   ],
   "source": [
    "df['number_of_interviews'].describe()"
   ]
  },
  {
   "cell_type": "code",
   "execution_count": 22,
   "id": "2ac42a17",
   "metadata": {},
   "outputs": [
    {
     "data": {
      "text/plain": [
       "number_of_interviews\n",
       " 0.0     750\n",
       " 1.0     519\n",
       " 2.0     302\n",
       "-1.0     214\n",
       " 3.0     203\n",
       " 4.0     190\n",
       " 5.0     134\n",
       " 6.0      74\n",
       " 7.0      59\n",
       " 10.0     16\n",
       " 8.0       5\n",
       " 11.0      4\n",
       " 9.0       2\n",
       "Name: count, dtype: int64"
      ]
     },
     "execution_count": 22,
     "metadata": {},
     "output_type": "execute_result"
    }
   ],
   "source": [
    "df['number_of_interviews'].fillna(-1).value_counts()"
   ]
  },
  {
   "cell_type": "code",
   "execution_count": 23,
   "id": "07d4c0fd",
   "metadata": {},
   "outputs": [],
   "source": [
    "df['number_of_interviews'].fillna(int(df['number_of_interviews'].mean()), inplace=True)"
   ]
  },
  {
   "cell_type": "markdown",
   "id": "f3bebb48",
   "metadata": {},
   "source": [
    "### length_of_job_search"
   ]
  },
  {
   "cell_type": "code",
   "execution_count": 24,
   "id": "ae400988",
   "metadata": {},
   "outputs": [
    {
     "data": {
      "text/plain": [
       "length_of_job_search\n",
       "Less than one month    800\n",
       "1-2 months             759\n",
       "3-5 months             494\n",
       "6 months to a year     228\n",
       "Over a year            117\n",
       "Name: count, dtype: int64"
      ]
     },
     "execution_count": 24,
     "metadata": {},
     "output_type": "execute_result"
    }
   ],
   "source": [
    "df['length_of_job_search'].value_counts()"
   ]
  },
  {
   "cell_type": "code",
   "execution_count": 25,
   "id": "d3fecdce",
   "metadata": {},
   "outputs": [
    {
     "data": {
      "text/plain": [
       "length_of_job_search\n",
       "Less than one month    800\n",
       "1-2 months             759\n",
       "3-5 months             494\n",
       "6 months to a year     228\n",
       "Over a year            117\n",
       "missed                  74\n",
       "Name: count, dtype: int64"
      ]
     },
     "execution_count": 25,
     "metadata": {},
     "output_type": "execute_result"
    }
   ],
   "source": [
    "df['length_of_job_search'].fillna('missed').value_counts()"
   ]
  },
  {
   "cell_type": "code",
   "execution_count": 26,
   "id": "a0b612f4",
   "metadata": {},
   "outputs": [],
   "source": [
    "df['length_of_job_search'].fillna('Less than one month', inplace=True)"
   ]
  },
  {
   "cell_type": "code",
   "execution_count": 27,
   "id": "15d54e0d",
   "metadata": {},
   "outputs": [
    {
     "data": {
      "text/plain": [
       "length_of_job_search\n",
       "Less than one month    874\n",
       "1-2 months             759\n",
       "3-5 months             494\n",
       "6 months to a year     228\n",
       "Over a year            117\n",
       "Name: count, dtype: int64"
      ]
     },
     "execution_count": 27,
     "metadata": {},
     "output_type": "execute_result"
    }
   ],
   "source": [
    "df['length_of_job_search'].fillna('missed').value_counts()"
   ]
  },
  {
   "cell_type": "markdown",
   "id": "31464edb",
   "metadata": {},
   "source": [
    "### highest_level_of_education"
   ]
  },
  {
   "cell_type": "code",
   "execution_count": 28,
   "id": "10fbbda5",
   "metadata": {},
   "outputs": [
    {
     "data": {
      "text/plain": [
       "highest_level_of_education\n",
       "Bachelor's Degree                   1320\n",
       "Master's Degree                      789\n",
       "Some College, No Degree              134\n",
       "Doctorate or Professional Degree     130\n",
       "GED or equivalent                     15\n",
       "Some High School                      15\n",
       "High School Graduate                  14\n",
       "Name: count, dtype: int64"
      ]
     },
     "execution_count": 28,
     "metadata": {},
     "output_type": "execute_result"
    }
   ],
   "source": [
    "df['highest_level_of_education'].value_counts()"
   ]
  },
  {
   "cell_type": "code",
   "execution_count": 29,
   "id": "74526dde",
   "metadata": {},
   "outputs": [
    {
     "data": {
      "text/plain": [
       "highest_level_of_education\n",
       "Bachelor's Degree                   1320\n",
       "Master's Degree                      789\n",
       "Some College, No Degree              134\n",
       "Doctorate or Professional Degree     130\n",
       "missed                                55\n",
       "GED or equivalent                     15\n",
       "Some High School                      15\n",
       "High School Graduate                  14\n",
       "Name: count, dtype: int64"
      ]
     },
     "execution_count": 29,
     "metadata": {},
     "output_type": "execute_result"
    }
   ],
   "source": [
    "df['highest_level_of_education'].fillna('missed').value_counts()"
   ]
  },
  {
   "cell_type": "code",
   "execution_count": 30,
   "id": "d7fe9a33",
   "metadata": {},
   "outputs": [],
   "source": [
    "df['highest_level_of_education'].fillna('missed', inplace=True)"
   ]
  },
  {
   "cell_type": "code",
   "execution_count": 31,
   "id": "949715db",
   "metadata": {},
   "outputs": [
    {
     "data": {
      "text/plain": [
       "highest_level_of_education\n",
       "Bachelor's Degree                   1320\n",
       "Master's Degree                      789\n",
       "Some College, No Degree              134\n",
       "Doctorate or Professional Degree     130\n",
       "missed                                55\n",
       "GED or equivalent                     15\n",
       "Some High School                      15\n",
       "High School Graduate                  14\n",
       "Name: count, dtype: int64"
      ]
     },
     "execution_count": 31,
     "metadata": {},
     "output_type": "execute_result"
    }
   ],
   "source": [
    "df['highest_level_of_education'].value_counts()"
   ]
  },
  {
   "cell_type": "markdown",
   "id": "5b64cbda",
   "metadata": {},
   "source": [
    "### biggest_challenge_in_search"
   ]
  },
  {
   "cell_type": "code",
   "execution_count": 32,
   "id": "b81e8a97",
   "metadata": {},
   "outputs": [
    {
     "data": {
      "text/plain": [
       "biggest_challenge_in_search\n",
       "Hearing back on my applications         968\n",
       "Getting past final round interviews     286\n",
       "Technical interviewing                  279\n",
       "Lack of relevant experience             221\n",
       "Getting past mid-stage interviews       204\n",
       "Figuring out which jobs to apply for    183\n",
       "Getting past phone screens              174\n",
       "Behavioral interviewing                  59\n",
       "Resume gap                               40\n",
       "Technical skills                         36\n",
       "Name: count, dtype: int64"
      ]
     },
     "execution_count": 32,
     "metadata": {},
     "output_type": "execute_result"
    }
   ],
   "source": [
    "df['biggest_challenge_in_search'].value_counts()"
   ]
  },
  {
   "cell_type": "code",
   "execution_count": 33,
   "id": "c32f1548",
   "metadata": {},
   "outputs": [
    {
     "data": {
      "text/plain": [
       "biggest_challenge_in_search\n",
       "Hearing back on my applications         968\n",
       "Getting past final round interviews     286\n",
       "Technical interviewing                  279\n",
       "Lack of relevant experience             221\n",
       "Getting past mid-stage interviews       204\n",
       "Figuring out which jobs to apply for    183\n",
       "Getting past phone screens              174\n",
       "Behavioral interviewing                  59\n",
       "Resume gap                               40\n",
       "Technical skills                         36\n",
       "missed                                   22\n",
       "Name: count, dtype: int64"
      ]
     },
     "execution_count": 33,
     "metadata": {},
     "output_type": "execute_result"
    }
   ],
   "source": [
    "df['biggest_challenge_in_search'].fillna('missed').value_counts()"
   ]
  },
  {
   "cell_type": "code",
   "execution_count": 34,
   "id": "06da4ae1",
   "metadata": {},
   "outputs": [],
   "source": [
    "df['biggest_challenge_in_search'].fillna('Hearing back on my applications', inplace=True)"
   ]
  },
  {
   "cell_type": "code",
   "execution_count": 35,
   "id": "c023da22",
   "metadata": {},
   "outputs": [
    {
     "data": {
      "text/plain": [
       "biggest_challenge_in_search\n",
       "Hearing back on my applications         990\n",
       "Getting past final round interviews     286\n",
       "Technical interviewing                  279\n",
       "Lack of relevant experience             221\n",
       "Getting past mid-stage interviews       204\n",
       "Figuring out which jobs to apply for    183\n",
       "Getting past phone screens              174\n",
       "Behavioral interviewing                  59\n",
       "Resume gap                               40\n",
       "Technical skills                         36\n",
       "Name: count, dtype: int64"
      ]
     },
     "execution_count": 35,
     "metadata": {},
     "output_type": "execute_result"
    }
   ],
   "source": [
    "df['biggest_challenge_in_search'].value_counts()"
   ]
  },
  {
   "cell_type": "markdown",
   "id": "b313a0cb",
   "metadata": {},
   "source": [
    "### race"
   ]
  },
  {
   "cell_type": "code",
   "execution_count": 36,
   "id": "b641cbd2",
   "metadata": {},
   "outputs": [
    {
     "data": {
      "text/plain": [
       "race\n",
       "East Asian or Asian American                  866\n",
       "Non-Hispanic White or Euro-American           563\n",
       "South Asian or Indian American                525\n",
       "Latino or Hispanic American                   151\n",
       "Black, Afro-Caribbean, or African American    121\n",
       "Two or More Races                              94\n",
       "Decline to Self Identify                       66\n",
       "Middle Eastern or Arab American                66\n",
       "missed                                         17\n",
       "Native American or Alaskan Native               3\n",
       "Name: count, dtype: int64"
      ]
     },
     "execution_count": 36,
     "metadata": {},
     "output_type": "execute_result"
    }
   ],
   "source": [
    "df['race'].fillna('missed').value_counts()"
   ]
  },
  {
   "cell_type": "code",
   "execution_count": 37,
   "id": "ba64a268",
   "metadata": {},
   "outputs": [],
   "source": [
    "df['race'].fillna('Decline to Self Identify', inplace=True)"
   ]
  },
  {
   "cell_type": "code",
   "execution_count": 38,
   "id": "08d3c7c9",
   "metadata": {},
   "outputs": [
    {
     "data": {
      "text/plain": [
       "race\n",
       "East Asian or Asian American                  866\n",
       "Non-Hispanic White or Euro-American           563\n",
       "South Asian or Indian American                525\n",
       "Latino or Hispanic American                   151\n",
       "Black, Afro-Caribbean, or African American    121\n",
       "Two or More Races                              94\n",
       "Decline to Self Identify                       83\n",
       "Middle Eastern or Arab American                66\n",
       "Native American or Alaskan Native               3\n",
       "Name: count, dtype: int64"
      ]
     },
     "execution_count": 38,
     "metadata": {},
     "output_type": "execute_result"
    }
   ],
   "source": [
    "df['race'].value_counts()"
   ]
  },
  {
   "cell_type": "markdown",
   "id": "f29a3a6f",
   "metadata": {},
   "source": [
    "### cohort_tag_month"
   ]
  },
  {
   "cell_type": "code",
   "execution_count": 39,
   "id": "4786ae5f",
   "metadata": {},
   "outputs": [
    {
     "data": {
      "text/plain": [
       "cohort_tag_month\n",
       "JAN       419\n",
       "OCT       280\n",
       "FEB       271\n",
       "SEP       269\n",
       "AUG       258\n",
       "DEC       174\n",
       "NOV       162\n",
       "JUN       159\n",
       "MAR       158\n",
       "APR       139\n",
       "JUL       106\n",
       "MAY        69\n",
       "missed      8\n",
       "Name: count, dtype: int64"
      ]
     },
     "execution_count": 39,
     "metadata": {},
     "output_type": "execute_result"
    }
   ],
   "source": [
    "df['cohort_tag_month'].fillna('missed').value_counts()"
   ]
  },
  {
   "cell_type": "code",
   "execution_count": 40,
   "id": "ffbb14f3",
   "metadata": {},
   "outputs": [],
   "source": [
    "df['cohort_tag_month'].fillna('FEB', inplace=True)"
   ]
  },
  {
   "cell_type": "code",
   "execution_count": 41,
   "id": "3c0df4c2",
   "metadata": {},
   "outputs": [
    {
     "data": {
      "text/plain": [
       "cohort_tag_month\n",
       "JAN    419\n",
       "OCT    280\n",
       "FEB    279\n",
       "SEP    269\n",
       "AUG    258\n",
       "DEC    174\n",
       "NOV    162\n",
       "JUN    159\n",
       "MAR    158\n",
       "APR    139\n",
       "JUL    106\n",
       "MAY     69\n",
       "Name: count, dtype: int64"
      ]
     },
     "execution_count": 41,
     "metadata": {},
     "output_type": "execute_result"
    }
   ],
   "source": [
    "df['cohort_tag_month'].value_counts()"
   ]
  },
  {
   "cell_type": "markdown",
   "id": "bdc3ef2e",
   "metadata": {},
   "source": [
    "### cohort_tag_fortnight"
   ]
  },
  {
   "cell_type": "code",
   "execution_count": 42,
   "id": "ffcb5351",
   "metadata": {},
   "outputs": [
    {
     "data": {
      "text/plain": [
       "cohort_tag_fortnight\n",
       "A         1519\n",
       "B          812\n",
       "C          133\n",
       "missed       8\n",
       "Name: count, dtype: int64"
      ]
     },
     "execution_count": 42,
     "metadata": {},
     "output_type": "execute_result"
    }
   ],
   "source": [
    "df['cohort_tag_fortnight'].fillna('missed').value_counts()"
   ]
  },
  {
   "cell_type": "code",
   "execution_count": 43,
   "id": "526740af",
   "metadata": {},
   "outputs": [],
   "source": [
    "df['cohort_tag_fortnight'].fillna('B', inplace=True)"
   ]
  },
  {
   "cell_type": "code",
   "execution_count": 44,
   "id": "08f9fb0b",
   "metadata": {},
   "outputs": [
    {
     "data": {
      "text/plain": [
       "cohort_tag_fortnight\n",
       "A    1519\n",
       "B     820\n",
       "C     133\n",
       "Name: count, dtype: int64"
      ]
     },
     "execution_count": 44,
     "metadata": {},
     "output_type": "execute_result"
    }
   ],
   "source": [
    "df['cohort_tag_fortnight'].value_counts()"
   ]
  },
  {
   "cell_type": "code",
   "execution_count": 45,
   "id": "a3944b00",
   "metadata": {},
   "outputs": [
    {
     "data": {
      "text/html": [
       "<div>\n",
       "<style scoped>\n",
       "    .dataframe tbody tr th:only-of-type {\n",
       "        vertical-align: middle;\n",
       "    }\n",
       "\n",
       "    .dataframe tbody tr th {\n",
       "        vertical-align: top;\n",
       "    }\n",
       "\n",
       "    .dataframe thead th {\n",
       "        text-align: right;\n",
       "    }\n",
       "</style>\n",
       "<table border=\"1\" class=\"dataframe\">\n",
       "  <thead>\n",
       "    <tr style=\"text-align: right;\">\n",
       "      <th></th>\n",
       "      <th>Total</th>\n",
       "      <th>%</th>\n",
       "    </tr>\n",
       "  </thead>\n",
       "  <tbody>\n",
       "    <tr>\n",
       "      <th>program_duration_days</th>\n",
       "      <td>598</td>\n",
       "      <td>24.2</td>\n",
       "    </tr>\n",
       "    <tr>\n",
       "      <th>cohort_tag</th>\n",
       "      <td>8</td>\n",
       "      <td>0.3</td>\n",
       "    </tr>\n",
       "    <tr>\n",
       "      <th>pathrise_status</th>\n",
       "      <td>0</td>\n",
       "      <td>0.0</td>\n",
       "    </tr>\n",
       "    <tr>\n",
       "      <th>work_authorization_status</th>\n",
       "      <td>0</td>\n",
       "      <td>0.0</td>\n",
       "    </tr>\n",
       "    <tr>\n",
       "      <th>cohort_tag_month</th>\n",
       "      <td>0</td>\n",
       "      <td>0.0</td>\n",
       "    </tr>\n",
       "    <tr>\n",
       "      <th>race</th>\n",
       "      <td>0</td>\n",
       "      <td>0.0</td>\n",
       "    </tr>\n",
       "    <tr>\n",
       "      <th>gender</th>\n",
       "      <td>0</td>\n",
       "      <td>0.0</td>\n",
       "    </tr>\n",
       "    <tr>\n",
       "      <th>number_of_applications</th>\n",
       "      <td>0</td>\n",
       "      <td>0.0</td>\n",
       "    </tr>\n",
       "    <tr>\n",
       "      <th>number_of_interviews</th>\n",
       "      <td>0</td>\n",
       "      <td>0.0</td>\n",
       "    </tr>\n",
       "    <tr>\n",
       "      <th>biggest_challenge_in_search</th>\n",
       "      <td>0</td>\n",
       "      <td>0.0</td>\n",
       "    </tr>\n",
       "    <tr>\n",
       "      <th>professional_experience</th>\n",
       "      <td>0</td>\n",
       "      <td>0.0</td>\n",
       "    </tr>\n",
       "    <tr>\n",
       "      <th>primary_track</th>\n",
       "      <td>0</td>\n",
       "      <td>0.0</td>\n",
       "    </tr>\n",
       "    <tr>\n",
       "      <th>length_of_job_search</th>\n",
       "      <td>0</td>\n",
       "      <td>0.0</td>\n",
       "    </tr>\n",
       "    <tr>\n",
       "      <th>highest_level_of_education</th>\n",
       "      <td>0</td>\n",
       "      <td>0.0</td>\n",
       "    </tr>\n",
       "    <tr>\n",
       "      <th>employment_status</th>\n",
       "      <td>0</td>\n",
       "      <td>0.0</td>\n",
       "    </tr>\n",
       "    <tr>\n",
       "      <th>placed</th>\n",
       "      <td>0</td>\n",
       "      <td>0.0</td>\n",
       "    </tr>\n",
       "    <tr>\n",
       "      <th>cohort_tag_fortnight</th>\n",
       "      <td>0</td>\n",
       "      <td>0.0</td>\n",
       "    </tr>\n",
       "  </tbody>\n",
       "</table>\n",
       "</div>"
      ],
      "text/plain": [
       "                             Total     %\n",
       "program_duration_days          598  24.2\n",
       "cohort_tag                       8   0.3\n",
       "pathrise_status                  0   0.0\n",
       "work_authorization_status        0   0.0\n",
       "cohort_tag_month                 0   0.0\n",
       "race                             0   0.0\n",
       "gender                           0   0.0\n",
       "number_of_applications           0   0.0\n",
       "number_of_interviews             0   0.0\n",
       "biggest_challenge_in_search      0   0.0\n",
       "professional_experience          0   0.0\n",
       "primary_track                    0   0.0\n",
       "length_of_job_search             0   0.0\n",
       "highest_level_of_education       0   0.0\n",
       "employment_status                0   0.0\n",
       "placed                           0   0.0\n",
       "cohort_tag_fortnight             0   0.0"
      ]
     },
     "execution_count": 45,
     "metadata": {},
     "output_type": "execute_result"
    }
   ],
   "source": [
    "analyze_missing_values(df=df)"
   ]
  },
  {
   "cell_type": "code",
   "execution_count": null,
   "id": "eb25ec86",
   "metadata": {},
   "outputs": [],
   "source": []
  },
  {
   "cell_type": "markdown",
   "id": "afe1d919",
   "metadata": {},
   "source": [
    "We are going to remove pathrise_status equal to Active rows. Here we want to decide what to do with program_duration_days null records"
   ]
  },
  {
   "cell_type": "code",
   "execution_count": 46,
   "id": "eed1642c",
   "metadata": {},
   "outputs": [],
   "source": [
    "# remove rows with pathrise_status as 'Active'\n",
    "df.drop(df[df['pathrise_status']=='Active'].index, axis=0, inplace=True)"
   ]
  },
  {
   "cell_type": "code",
   "execution_count": 47,
   "id": "a53025d5",
   "metadata": {},
   "outputs": [
    {
     "data": {
      "text/plain": [
       "array(['Closed Lost', 'Placed', 'Withdrawn (Failed)', 'Withdrawn (Trial)',\n",
       "       'Withdrawn', 'Deferred', 'Break', 'MIA'], dtype=object)"
      ]
     },
     "execution_count": 47,
     "metadata": {},
     "output_type": "execute_result"
    }
   ],
   "source": [
    "df['pathrise_status'].unique()"
   ]
  },
  {
   "cell_type": "code",
   "execution_count": 48,
   "id": "e842d899",
   "metadata": {},
   "outputs": [
    {
     "data": {
      "text/plain": [
       "(1953, 17)"
      ]
     },
     "execution_count": 48,
     "metadata": {},
     "output_type": "execute_result"
    }
   ],
   "source": [
    "df.shape"
   ]
  },
  {
   "cell_type": "markdown",
   "id": "4d28d6bd",
   "metadata": {},
   "source": [
    "Now that the unnecessary data removed from Dataset lets finish the dealing with missing values job"
   ]
  },
  {
   "cell_type": "code",
   "execution_count": 49,
   "id": "fa2dc363",
   "metadata": {},
   "outputs": [
    {
     "data": {
      "text/html": [
       "<div>\n",
       "<style scoped>\n",
       "    .dataframe tbody tr th:only-of-type {\n",
       "        vertical-align: middle;\n",
       "    }\n",
       "\n",
       "    .dataframe tbody tr th {\n",
       "        vertical-align: top;\n",
       "    }\n",
       "\n",
       "    .dataframe thead tr th {\n",
       "        text-align: left;\n",
       "    }\n",
       "\n",
       "    .dataframe thead tr:last-of-type th {\n",
       "        text-align: right;\n",
       "    }\n",
       "</style>\n",
       "<table border=\"1\" class=\"dataframe\">\n",
       "  <thead>\n",
       "    <tr>\n",
       "      <th></th>\n",
       "      <th colspan=\"8\" halign=\"left\">program_duration_days</th>\n",
       "      <th colspan=\"2\" halign=\"left\">placed</th>\n",
       "      <th>...</th>\n",
       "      <th colspan=\"2\" halign=\"left\">number_of_interviews</th>\n",
       "      <th colspan=\"8\" halign=\"left\">number_of_applications</th>\n",
       "    </tr>\n",
       "    <tr>\n",
       "      <th></th>\n",
       "      <th>count</th>\n",
       "      <th>mean</th>\n",
       "      <th>std</th>\n",
       "      <th>min</th>\n",
       "      <th>25%</th>\n",
       "      <th>50%</th>\n",
       "      <th>75%</th>\n",
       "      <th>max</th>\n",
       "      <th>count</th>\n",
       "      <th>mean</th>\n",
       "      <th>...</th>\n",
       "      <th>75%</th>\n",
       "      <th>max</th>\n",
       "      <th>count</th>\n",
       "      <th>mean</th>\n",
       "      <th>std</th>\n",
       "      <th>min</th>\n",
       "      <th>25%</th>\n",
       "      <th>50%</th>\n",
       "      <th>75%</th>\n",
       "      <th>max</th>\n",
       "    </tr>\n",
       "    <tr>\n",
       "      <th>pathrise_status</th>\n",
       "      <th></th>\n",
       "      <th></th>\n",
       "      <th></th>\n",
       "      <th></th>\n",
       "      <th></th>\n",
       "      <th></th>\n",
       "      <th></th>\n",
       "      <th></th>\n",
       "      <th></th>\n",
       "      <th></th>\n",
       "      <th></th>\n",
       "      <th></th>\n",
       "      <th></th>\n",
       "      <th></th>\n",
       "      <th></th>\n",
       "      <th></th>\n",
       "      <th></th>\n",
       "      <th></th>\n",
       "      <th></th>\n",
       "      <th></th>\n",
       "      <th></th>\n",
       "    </tr>\n",
       "  </thead>\n",
       "  <tbody>\n",
       "    <tr>\n",
       "      <th>Break</th>\n",
       "      <td>0.0</td>\n",
       "      <td>NaN</td>\n",
       "      <td>NaN</td>\n",
       "      <td>NaN</td>\n",
       "      <td>NaN</td>\n",
       "      <td>NaN</td>\n",
       "      <td>NaN</td>\n",
       "      <td>NaN</td>\n",
       "      <td>30.0</td>\n",
       "      <td>0.0</td>\n",
       "      <td>...</td>\n",
       "      <td>2.75</td>\n",
       "      <td>6.0</td>\n",
       "      <td>30.0</td>\n",
       "      <td>20.500000</td>\n",
       "      <td>19.381381</td>\n",
       "      <td>0.0</td>\n",
       "      <td>6.0</td>\n",
       "      <td>15.0</td>\n",
       "      <td>28.75</td>\n",
       "      <td>80.0</td>\n",
       "    </tr>\n",
       "    <tr>\n",
       "      <th>MIA</th>\n",
       "      <td>0.0</td>\n",
       "      <td>NaN</td>\n",
       "      <td>NaN</td>\n",
       "      <td>NaN</td>\n",
       "      <td>NaN</td>\n",
       "      <td>NaN</td>\n",
       "      <td>NaN</td>\n",
       "      <td>NaN</td>\n",
       "      <td>49.0</td>\n",
       "      <td>0.0</td>\n",
       "      <td>...</td>\n",
       "      <td>2.00</td>\n",
       "      <td>5.0</td>\n",
       "      <td>49.0</td>\n",
       "      <td>34.244898</td>\n",
       "      <td>38.661744</td>\n",
       "      <td>0.0</td>\n",
       "      <td>9.0</td>\n",
       "      <td>25.0</td>\n",
       "      <td>45.00</td>\n",
       "      <td>190.0</td>\n",
       "    </tr>\n",
       "  </tbody>\n",
       "</table>\n",
       "<p>2 rows × 32 columns</p>\n",
       "</div>"
      ],
      "text/plain": [
       "                program_duration_days                              placed   \n",
       "                                count mean std min 25% 50% 75% max  count   \n",
       "pathrise_status                                                             \n",
       "Break                             0.0  NaN NaN NaN NaN NaN NaN NaN   30.0  \\\n",
       "MIA                               0.0  NaN NaN NaN NaN NaN NaN NaN   49.0   \n",
       "\n",
       "                      ... number_of_interviews      number_of_applications   \n",
       "                mean  ...                  75%  max                  count   \n",
       "pathrise_status       ...                                                    \n",
       "Break            0.0  ...                 2.75  6.0                   30.0  \\\n",
       "MIA              0.0  ...                 2.00  5.0                   49.0   \n",
       "\n",
       "                                                                     \n",
       "                      mean        std  min  25%   50%    75%    max  \n",
       "pathrise_status                                                      \n",
       "Break            20.500000  19.381381  0.0  6.0  15.0  28.75   80.0  \n",
       "MIA              34.244898  38.661744  0.0  9.0  25.0  45.00  190.0  \n",
       "\n",
       "[2 rows x 32 columns]"
      ]
     },
     "execution_count": 49,
     "metadata": {},
     "output_type": "execute_result"
    }
   ],
   "source": [
    "df[df['program_duration_days'].isnull()].groupby(['pathrise_status']).describe()"
   ]
  },
  {
   "cell_type": "code",
   "execution_count": 50,
   "id": "ec5553c6",
   "metadata": {},
   "outputs": [],
   "source": [
    "filtered = df['pathrise_status']=='MIA'\n",
    "    \n",
    "df.loc[filtered,'program_duration_days']=df.loc[filtered,'program_duration_days'].fillna(0)"
   ]
  },
  {
   "cell_type": "code",
   "execution_count": 51,
   "id": "8746dd95",
   "metadata": {},
   "outputs": [],
   "source": [
    "filtered = df['pathrise_status']=='Break'\n",
    "    \n",
    "df.loc[filtered,'program_duration_days']=df.loc[filtered,'program_duration_days'].fillna(0)"
   ]
  },
  {
   "cell_type": "markdown",
   "id": "df8f398e",
   "metadata": {},
   "source": [
    "### Remove unnecessary features\n"
   ]
  },
  {
   "cell_type": "code",
   "execution_count": 52,
   "id": "b2ed320b",
   "metadata": {},
   "outputs": [],
   "source": [
    "df.drop(columns=['pathrise_status', 'cohort_tag'], axis=1, inplace=True)"
   ]
  },
  {
   "cell_type": "code",
   "execution_count": 53,
   "id": "4a0a1f66",
   "metadata": {},
   "outputs": [
    {
     "data": {
      "text/html": [
       "<div>\n",
       "<style scoped>\n",
       "    .dataframe tbody tr th:only-of-type {\n",
       "        vertical-align: middle;\n",
       "    }\n",
       "\n",
       "    .dataframe tbody tr th {\n",
       "        vertical-align: top;\n",
       "    }\n",
       "\n",
       "    .dataframe thead th {\n",
       "        text-align: right;\n",
       "    }\n",
       "</style>\n",
       "<table border=\"1\" class=\"dataframe\">\n",
       "  <thead>\n",
       "    <tr style=\"text-align: right;\">\n",
       "      <th></th>\n",
       "      <th>Total</th>\n",
       "      <th>%</th>\n",
       "    </tr>\n",
       "  </thead>\n",
       "  <tbody>\n",
       "    <tr>\n",
       "      <th>primary_track</th>\n",
       "      <td>0</td>\n",
       "      <td>0.0</td>\n",
       "    </tr>\n",
       "    <tr>\n",
       "      <th>program_duration_days</th>\n",
       "      <td>0</td>\n",
       "      <td>0.0</td>\n",
       "    </tr>\n",
       "    <tr>\n",
       "      <th>placed</th>\n",
       "      <td>0</td>\n",
       "      <td>0.0</td>\n",
       "    </tr>\n",
       "    <tr>\n",
       "      <th>employment_status</th>\n",
       "      <td>0</td>\n",
       "      <td>0.0</td>\n",
       "    </tr>\n",
       "    <tr>\n",
       "      <th>highest_level_of_education</th>\n",
       "      <td>0</td>\n",
       "      <td>0.0</td>\n",
       "    </tr>\n",
       "    <tr>\n",
       "      <th>length_of_job_search</th>\n",
       "      <td>0</td>\n",
       "      <td>0.0</td>\n",
       "    </tr>\n",
       "    <tr>\n",
       "      <th>biggest_challenge_in_search</th>\n",
       "      <td>0</td>\n",
       "      <td>0.0</td>\n",
       "    </tr>\n",
       "    <tr>\n",
       "      <th>professional_experience</th>\n",
       "      <td>0</td>\n",
       "      <td>0.0</td>\n",
       "    </tr>\n",
       "    <tr>\n",
       "      <th>work_authorization_status</th>\n",
       "      <td>0</td>\n",
       "      <td>0.0</td>\n",
       "    </tr>\n",
       "    <tr>\n",
       "      <th>number_of_interviews</th>\n",
       "      <td>0</td>\n",
       "      <td>0.0</td>\n",
       "    </tr>\n",
       "    <tr>\n",
       "      <th>number_of_applications</th>\n",
       "      <td>0</td>\n",
       "      <td>0.0</td>\n",
       "    </tr>\n",
       "    <tr>\n",
       "      <th>gender</th>\n",
       "      <td>0</td>\n",
       "      <td>0.0</td>\n",
       "    </tr>\n",
       "    <tr>\n",
       "      <th>race</th>\n",
       "      <td>0</td>\n",
       "      <td>0.0</td>\n",
       "    </tr>\n",
       "    <tr>\n",
       "      <th>cohort_tag_month</th>\n",
       "      <td>0</td>\n",
       "      <td>0.0</td>\n",
       "    </tr>\n",
       "    <tr>\n",
       "      <th>cohort_tag_fortnight</th>\n",
       "      <td>0</td>\n",
       "      <td>0.0</td>\n",
       "    </tr>\n",
       "  </tbody>\n",
       "</table>\n",
       "</div>"
      ],
      "text/plain": [
       "                             Total    %\n",
       "primary_track                    0  0.0\n",
       "program_duration_days            0  0.0\n",
       "placed                           0  0.0\n",
       "employment_status                0  0.0\n",
       "highest_level_of_education       0  0.0\n",
       "length_of_job_search             0  0.0\n",
       "biggest_challenge_in_search      0  0.0\n",
       "professional_experience          0  0.0\n",
       "work_authorization_status        0  0.0\n",
       "number_of_interviews             0  0.0\n",
       "number_of_applications           0  0.0\n",
       "gender                           0  0.0\n",
       "race                             0  0.0\n",
       "cohort_tag_month                 0  0.0\n",
       "cohort_tag_fortnight             0  0.0"
      ]
     },
     "execution_count": 53,
     "metadata": {},
     "output_type": "execute_result"
    }
   ],
   "source": [
    "analyze_missing_values(df=df)"
   ]
  },
  {
   "cell_type": "code",
   "execution_count": 54,
   "id": "f5d2c2f0",
   "metadata": {},
   "outputs": [
    {
     "name": "stdout",
     "output_type": "stream",
     "text": [
      "<class 'pandas.core.frame.DataFrame'>\n",
      "Index: 1953 entries, 1 to 2471\n",
      "Data columns (total 15 columns):\n",
      " #   Column                       Non-Null Count  Dtype  \n",
      "---  ------                       --------------  -----  \n",
      " 0   primary_track                1953 non-null   object \n",
      " 1   program_duration_days        1953 non-null   float64\n",
      " 2   placed                       1953 non-null   int64  \n",
      " 3   employment_status            1953 non-null   object \n",
      " 4   highest_level_of_education   1953 non-null   object \n",
      " 5   length_of_job_search         1953 non-null   object \n",
      " 6   biggest_challenge_in_search  1953 non-null   object \n",
      " 7   professional_experience      1953 non-null   object \n",
      " 8   work_authorization_status    1953 non-null   object \n",
      " 9   number_of_interviews         1953 non-null   float64\n",
      " 10  number_of_applications       1953 non-null   int64  \n",
      " 11  gender                       1953 non-null   object \n",
      " 12  race                         1953 non-null   object \n",
      " 13  cohort_tag_month             1953 non-null   object \n",
      " 14  cohort_tag_fortnight         1953 non-null   object \n",
      "dtypes: float64(2), int64(2), object(11)\n",
      "memory usage: 244.1+ KB\n"
     ]
    }
   ],
   "source": [
    "df.info()"
   ]
  },
  {
   "cell_type": "code",
   "execution_count": null,
   "id": "46dcb05f",
   "metadata": {},
   "outputs": [],
   "source": []
  },
  {
   "cell_type": "code",
   "execution_count": null,
   "id": "9de7bedf",
   "metadata": {},
   "outputs": [],
   "source": []
  },
  {
   "cell_type": "code",
   "execution_count": null,
   "id": "bffcf470",
   "metadata": {},
   "outputs": [],
   "source": []
  },
  {
   "cell_type": "code",
   "execution_count": null,
   "id": "813a8b49",
   "metadata": {},
   "outputs": [],
   "source": []
  },
  {
   "cell_type": "code",
   "execution_count": null,
   "id": "051cf4d8",
   "metadata": {},
   "outputs": [],
   "source": []
  },
  {
   "cell_type": "markdown",
   "id": "748a09d6",
   "metadata": {},
   "source": [
    "## Dataset Scaling"
   ]
  },
  {
   "cell_type": "code",
   "execution_count": null,
   "id": "ecd74718",
   "metadata": {},
   "outputs": [],
   "source": []
  },
  {
   "cell_type": "code",
   "execution_count": null,
   "id": "a00c09b8",
   "metadata": {},
   "outputs": [],
   "source": []
  },
  {
   "cell_type": "markdown",
   "id": "f7695f61",
   "metadata": {},
   "source": [
    "## Data Scaling"
   ]
  },
  {
   "cell_type": "raw",
   "id": "85849ea7",
   "metadata": {},
   "source": [
    "numerical_features=['number_of_interviews', 'number_of_applications']"
   ]
  },
  {
   "cell_type": "raw",
   "id": "535c5647",
   "metadata": {},
   "source": [
    "transform_numbers_scaler(data=df, features=numerical_features)"
   ]
  },
  {
   "cell_type": "raw",
   "id": "f1f85811",
   "metadata": {},
   "source": [
    "df.describe()"
   ]
  },
  {
   "cell_type": "code",
   "execution_count": null,
   "id": "8062844a",
   "metadata": {},
   "outputs": [],
   "source": []
  },
  {
   "cell_type": "markdown",
   "id": "1a8672f0",
   "metadata": {},
   "source": [
    "## Data Labeling"
   ]
  },
  {
   "cell_type": "code",
   "execution_count": 55,
   "id": "021fe5da",
   "metadata": {},
   "outputs": [],
   "source": [
    "categorical_features=['primary_track',\n",
    "        'employment_status',\n",
    "       'highest_level_of_education', 'length_of_job_search',\n",
    "       'biggest_challenge_in_search', 'professional_experience',\n",
    "       'work_authorization_status', 'gender', 'race', 'cohort_tag_month', 'cohort_tag_fortnight']"
   ]
  },
  {
   "cell_type": "code",
   "execution_count": 56,
   "id": "e86ff256",
   "metadata": {},
   "outputs": [],
   "source": [
    "transform_categories_to_numbers(data=df, features=categorical_features)"
   ]
  },
  {
   "cell_type": "code",
   "execution_count": 57,
   "id": "1ea0ba2d",
   "metadata": {},
   "outputs": [
    {
     "name": "stdout",
     "output_type": "stream",
     "text": [
      "<class 'pandas.core.frame.DataFrame'>\n",
      "Index: 1953 entries, 1 to 2471\n",
      "Data columns (total 15 columns):\n",
      " #   Column                       Non-Null Count  Dtype  \n",
      "---  ------                       --------------  -----  \n",
      " 0   primary_track                1953 non-null   int32  \n",
      " 1   program_duration_days        1953 non-null   float64\n",
      " 2   placed                       1953 non-null   int64  \n",
      " 3   employment_status            1953 non-null   int32  \n",
      " 4   highest_level_of_education   1953 non-null   int32  \n",
      " 5   length_of_job_search         1953 non-null   int32  \n",
      " 6   biggest_challenge_in_search  1953 non-null   int32  \n",
      " 7   professional_experience      1953 non-null   int32  \n",
      " 8   work_authorization_status    1953 non-null   int32  \n",
      " 9   number_of_interviews         1953 non-null   float64\n",
      " 10  number_of_applications       1953 non-null   int64  \n",
      " 11  gender                       1953 non-null   int32  \n",
      " 12  race                         1953 non-null   int32  \n",
      " 13  cohort_tag_month             1953 non-null   int32  \n",
      " 14  cohort_tag_fortnight         1953 non-null   int32  \n",
      "dtypes: float64(2), int32(11), int64(2)\n",
      "memory usage: 160.2 KB\n"
     ]
    }
   ],
   "source": [
    "df.info()"
   ]
  },
  {
   "cell_type": "markdown",
   "id": "2b56139b",
   "metadata": {},
   "source": []
  },
  {
   "cell_type": "code",
   "execution_count": null,
   "id": "c9e05f2c",
   "metadata": {},
   "outputs": [],
   "source": []
  },
  {
   "cell_type": "code",
   "execution_count": null,
   "id": "c19128de",
   "metadata": {},
   "outputs": [],
   "source": []
  },
  {
   "cell_type": "code",
   "execution_count": 58,
   "id": "5b653482",
   "metadata": {},
   "outputs": [],
   "source": [
    "\n",
    "\n",
    "df.to_csv('Pathrise_preprocessed.csv', index=False)\n",
    "\n"
   ]
  },
  {
   "cell_type": "code",
   "execution_count": null,
   "id": "cb76ccef",
   "metadata": {},
   "outputs": [],
   "source": []
  }
 ],
 "metadata": {
  "kernelspec": {
   "display_name": "Python 3 (ipykernel)",
   "language": "python",
   "name": "python3"
  },
  "language_info": {
   "codemirror_mode": {
    "name": "ipython",
    "version": 3
   },
   "file_extension": ".py",
   "mimetype": "text/x-python",
   "name": "python",
   "nbconvert_exporter": "python",
   "pygments_lexer": "ipython3",
   "version": "3.11.2"
  }
 },
 "nbformat": 4,
 "nbformat_minor": 5
}
