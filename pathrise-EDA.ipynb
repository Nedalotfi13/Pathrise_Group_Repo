{
 "cells": [
  {
   "cell_type": "markdown",
   "id": "c3f233dd",
   "metadata": {},
   "source": [
    "**Step 1 - Data Understanding**\n",
    "- shape\n",
    "- head & tail\n",
    "- info\n",
    "- dtypes\n",
    "- describe\n",
    "    \n",
    "**Step 2 - Data Preparation**\n",
    "- Droping irrelative Columns and Rows\n",
    "- Identifying duplicated columns\n",
    "- Renaming columns\n",
    "- Feature creation\n",
    "    \n",
    "**Step 3 - Feature Understanding** (univariate analysis)\n",
    "- Plotting features distributions\n",
    "    - Histogram\n",
    "    - KDE\n",
    "    - Box plot\n",
    "    \n",
    "**Step 4 - Feature Relationship**\n",
    "- Scatter plot\n",
    "- Heatmap correlation\n",
    "- Pair plot\n",
    "- Groupby comparisons"
   ]
  },
  {
   "cell_type": "code",
   "execution_count": null,
   "id": "91913f9c",
   "metadata": {},
   "outputs": [],
   "source": []
  }
 ],
 "metadata": {
  "kernelspec": {
   "display_name": "Python 3 (ipykernel)",
   "language": "python",
   "name": "python3"
  },
  "language_info": {
   "codemirror_mode": {
    "name": "ipython",
    "version": 3
   },
   "file_extension": ".py",
   "mimetype": "text/x-python",
   "name": "python",
   "nbconvert_exporter": "python",
   "pygments_lexer": "ipython3",
   "version": "3.11.2"
  }
 },
 "nbformat": 4,
 "nbformat_minor": 5
}
