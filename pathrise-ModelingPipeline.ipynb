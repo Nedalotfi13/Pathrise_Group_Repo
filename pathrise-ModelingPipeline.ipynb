{
 "cells": [
  {
   "cell_type": "markdown",
   "id": "59fefcd2",
   "metadata": {},
   "source": [
    "**Step 6 - Model Selection**\n",
    "- Identify Model Families\n",
    "\n",
    "**Step 7 - Train the Model**\n",
    "- Splitting the data\n",
    "- Feature Engineering\n",
    "- Training the Model\n",
    "- Hyperparameter Tuning\n",
    "- Model Validation\n",
    "- Model Refinement\n",
    "- Saving the Model\n",
    "\n",
    "**Step 8 - Evaluate the Model**\n",
    "- Choose Evaluation Metrics\n",
    "- Evaluate the Model\n",
    "- Repeat the Process ( Step 7 and 8 )\n",
    "\n",
    "*Step 9 - Deploy the Model\n",
    "- *Choose a Deployment Environment\n",
    "- *Model Conversion\n",
    "- *Model Integration\n",
    "- *Testing\n",
    "- *Monitoring\n",
    "- *Maintenance*\n",
    "    \n",
    "**Step 10 - Communicate Results**\n",
    "- Identify the Audience\n",
    "- Choose the Right Format\n",
    "- Visualize the Results\n",
    "- Explain the Methodology\n",
    "- Highlight the Insights\n",
    "- Provide Recommendations\n",
    "- Collect Feedback"
   ]
  },
  {
   "cell_type": "code",
   "execution_count": null,
   "id": "63b292a2",
   "metadata": {},
   "outputs": [],
   "source": []
  }
 ],
 "metadata": {
  "kernelspec": {
   "display_name": "Python 3 (ipykernel)",
   "language": "python",
   "name": "python3"
  },
  "language_info": {
   "codemirror_mode": {
    "name": "ipython",
    "version": 3
   },
   "file_extension": ".py",
   "mimetype": "text/x-python",
   "name": "python",
   "nbconvert_exporter": "python",
   "pygments_lexer": "ipython3",
   "version": "3.11.2"
  }
 },
 "nbformat": 4,
 "nbformat_minor": 5
}
