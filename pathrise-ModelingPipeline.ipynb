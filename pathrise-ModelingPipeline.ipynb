{
 "cells": [
  {
   "cell_type": "code",
   "execution_count": null,
   "id": "fee08273",
   "metadata": {},
   "outputs": [],
   "source": [
    "Step 6 - Model Selection\n",
    "\n",
    "Step 7 - Train the Model\n",
    "    Splitting the data\n",
    "    Feature Engineering\n",
    "    Training the Model\n",
    "    Hyperparameter Tuning\n",
    "    Model Validation\n",
    "    Model Refinement\n",
    "    Saving the Model\n",
    "\n",
    "Step 8 - Evaluate the Model\n",
    "\n",
    "Step 9 - Deploy the Model\n",
    "\n",
    "Step 10 - Communicate Results"
   ]
  }
 ],
 "metadata": {
  "kernelspec": {
   "display_name": "Python 3 (ipykernel)",
   "language": "python",
   "name": "python3"
  },
  "language_info": {
   "codemirror_mode": {
    "name": "ipython",
    "version": 3
   },
   "file_extension": ".py",
   "mimetype": "text/x-python",
   "name": "python",
   "nbconvert_exporter": "python",
   "pygments_lexer": "ipython3",
   "version": "3.11.2"
  }
 },
 "nbformat": 4,
 "nbformat_minor": 5
}
